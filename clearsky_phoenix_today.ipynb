{
  "nbformat": 4,
  "nbformat_minor": 0,
  "metadata": {
    "colab": {
      "name": "clearsky_phoenix_today.ipynb",
      "provenance": []
    },
    "kernelspec": {
      "name": "python3",
      "display_name": "Python 3"
    }
  },
  "cells": [
    {
      "cell_type": "code",
      "metadata": {
        "id": "SGWADDlfJuUH",
        "colab_type": "code",
        "colab": {
          "base_uri": "https://localhost:8080/",
          "height": 219
        },
        "outputId": "4582cae5-a115-45f1-cbf9-90e3852ad9a1"
      },
      "source": [
        "!pip install pvlib"
      ],
      "execution_count": 34,
      "outputs": [
        {
          "output_type": "stream",
          "text": [
            "Requirement already satisfied: pvlib in /usr/local/lib/python3.6/dist-packages (0.7.2)\n",
            "Requirement already satisfied: pandas>=0.18.1 in /usr/local/lib/python3.6/dist-packages (from pvlib) (1.0.4)\n",
            "Requirement already satisfied: numpy>=1.12.0 in /usr/local/lib/python3.6/dist-packages (from pvlib) (1.18.5)\n",
            "Requirement already satisfied: requests in /usr/local/lib/python3.6/dist-packages (from pvlib) (2.23.0)\n",
            "Requirement already satisfied: pytz in /usr/local/lib/python3.6/dist-packages (from pvlib) (2018.9)\n",
            "Requirement already satisfied: python-dateutil>=2.6.1 in /usr/local/lib/python3.6/dist-packages (from pandas>=0.18.1->pvlib) (2.8.1)\n",
            "Requirement already satisfied: certifi>=2017.4.17 in /usr/local/lib/python3.6/dist-packages (from requests->pvlib) (2020.4.5.2)\n",
            "Requirement already satisfied: urllib3!=1.25.0,!=1.25.1,<1.26,>=1.21.1 in /usr/local/lib/python3.6/dist-packages (from requests->pvlib) (1.24.3)\n",
            "Requirement already satisfied: idna<3,>=2.5 in /usr/local/lib/python3.6/dist-packages (from requests->pvlib) (2.9)\n",
            "Requirement already satisfied: chardet<4,>=3.0.2 in /usr/local/lib/python3.6/dist-packages (from requests->pvlib) (3.0.4)\n",
            "Requirement already satisfied: six>=1.5 in /usr/local/lib/python3.6/dist-packages (from python-dateutil>=2.6.1->pandas>=0.18.1->pvlib) (1.12.0)\n"
          ],
          "name": "stdout"
        }
      ]
    },
    {
      "cell_type": "code",
      "metadata": {
        "id": "-ri2K8FTKE4q",
        "colab_type": "code",
        "colab": {}
      },
      "source": [
        "import matplotlib.pyplot as plt\n",
        "import pandas as pd\n",
        "import datetime\n",
        "from pytz import timezone\n",
        "\n",
        "#import pvlib\n",
        "from pvlib import clearsky, atmosphere\n",
        "from pvlib.location import Location"
      ],
      "execution_count": 35,
      "outputs": []
    },
    {
      "cell_type": "markdown",
      "metadata": {
        "id": "k-Qa6X-pRPIU",
        "colab_type": "text"
      },
      "source": [
        "## Define the current location and time zone"
      ]
    },
    {
      "cell_type": "code",
      "metadata": {
        "id": "5IJfo2QQKZpH",
        "colab_type": "code",
        "colab": {
          "base_uri": "https://localhost:8080/",
          "height": 127
        },
        "outputId": "5780bfdd-1e9a-4aff-d733-2379ba952e79"
      },
      "source": [
        "name = 'Phoenix'\n",
        "latitude = 33.4484 \n",
        "longitude = -112.0740\n",
        "altitude = 331 # (meters)\n",
        "time_zone = 'US/Arizona'\n",
        "phx = Location(latitude, longitude, time_zone, altitude, name)\n",
        "print(phx)"
      ],
      "execution_count": 36,
      "outputs": [
        {
          "output_type": "stream",
          "text": [
            "Location: \n",
            "  name: Phoenix\n",
            "  latitude: 33.4484\n",
            "  longitude: -112.074\n",
            "  altitude: 331\n",
            "  tz: US/Arizona\n"
          ],
          "name": "stdout"
        }
      ]
    },
    {
      "cell_type": "markdown",
      "metadata": {
        "id": "TLmA1X0PRQYH",
        "colab_type": "text"
      },
      "source": [
        "## List the insolation for 10 minutes"
      ]
    },
    {
      "cell_type": "code",
      "metadata": {
        "id": "OZI1j_80LfjI",
        "colab_type": "code",
        "colab": {
          "base_uri": "https://localhost:8080/",
          "height": 237
        },
        "outputId": "243416f8-be3a-4bc3-d9bd-95533f008928"
      },
      "source": [
        "dt = '2020-04-20 13:14:00'\n",
        "#uncomment the following line to get the next 10 minutes\n",
        "#dt = datetime.datetime.now(tz=timezone('US/Arizona'))\n",
        "times = pd.date_range(start=dt, periods=10, freq='1min', tz=phx.tz)\n",
        "cs = phx.get_clearsky(times)  # ineichen with climatology table by default\n",
        "print('global horizontal (W/m2)')\n",
        "print(cs['ghi'])"
      ],
      "execution_count": 39,
      "outputs": [
        {
          "output_type": "stream",
          "text": [
            "global horizontal (W/m2)\n",
            "2020-04-20 13:14:00-07:00    947.947653\n",
            "2020-04-20 13:15:00-07:00    947.081845\n",
            "2020-04-20 13:16:00-07:00    946.198035\n",
            "2020-04-20 13:17:00-07:00    945.296238\n",
            "2020-04-20 13:18:00-07:00    944.376475\n",
            "2020-04-20 13:19:00-07:00    943.438764\n",
            "2020-04-20 13:20:00-07:00    942.483123\n",
            "2020-04-20 13:21:00-07:00    941.509570\n",
            "2020-04-20 13:22:00-07:00    940.518128\n",
            "2020-04-20 13:23:00-07:00    939.508814\n",
            "Freq: T, Name: ghi, dtype: float64\n"
          ],
          "name": "stdout"
        }
      ]
    },
    {
      "cell_type": "markdown",
      "metadata": {
        "id": "wwUtmgwARu6j",
        "colab_type": "text"
      },
      "source": [
        "## Plot the insolation for one day"
      ]
    },
    {
      "cell_type": "code",
      "metadata": {
        "id": "LjZRL2kZKN-a",
        "colab_type": "code",
        "colab": {
          "base_uri": "https://localhost:8080/",
          "height": 284
        },
        "outputId": "bcc8f03f-5dcf-41ed-d899-5f5cf51f43bd"
      },
      "source": [
        "times = pd.date_range(start='2020-04-20', periods=24*6, freq='10min', tz=phx.tz)\n",
        "cs = phx.get_clearsky(times)  # ineichen with climatology table by default\n",
        "cs.plot()"
      ],
      "execution_count": 38,
      "outputs": [
        {
          "output_type": "execute_result",
          "data": {
            "text/plain": [
              "<matplotlib.axes._subplots.AxesSubplot at 0x7f6085c3c588>"
            ]
          },
          "metadata": {
            "tags": []
          },
          "execution_count": 38
        },
        {
          "output_type": "display_data",
          "data": {
            "image/png": "[encoded data removed]",
            "text/plain": [
              "<Figure size 432x288 with 1 Axes>"
            ]
          },
          "metadata": {
            "tags": [],
            "needs_background": "light"
          }
        }
      ]
    }
  ]
}